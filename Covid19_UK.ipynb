{
 "cells": [
  {
   "cell_type": "code",
   "execution_count": 418,
   "metadata": {},
   "outputs": [],
   "source": [
    "import pandas as pd\n",
    "import requests\n",
    "import os\n",
    "import matplotlib.pyplot as plt\n",
    "import numpy as np\n",
    "import seaborn as sns\n",
    "import datetime as dt\n",
    "pd.options.mode.chained_assignment = None  # default='warn'"
   ]
  },
  {
   "cell_type": "code",
   "execution_count": 419,
   "metadata": {},
   "outputs": [],
   "source": [
    "# download data from https://coronavirus.data.gov.uk/archive\n",
    "path = \"data/\"\n",
    "cases_url = 'https://coronavirus.data.gov.uk/downloads/csv/coronavirus-cases_latest.csv'\n",
    "deaths_url ='https://coronavirus.data.gov.uk/downloads/csv/coronavirus-deaths_latest.csv'\n",
    "\n",
    "def download_csv(url):\n",
    "    response = requests.get(url)\n",
    "    file_name = url.split('/')[-1]\n",
    "    with open(os.path.join(path, file_name), 'wb') as f:\n",
    "        f.write(response.content)\n",
    "\n",
    "download_csv(cases_url)\n",
    "download_csv(deaths_url)"
   ]
  },
  {
   "cell_type": "code",
   "execution_count": 420,
   "metadata": {},
   "outputs": [
    {
     "data": {
      "text/html": [
       "<div>\n",
       "<style scoped>\n",
       "    .dataframe tbody tr th:only-of-type {\n",
       "        vertical-align: middle;\n",
       "    }\n",
       "\n",
       "    .dataframe tbody tr th {\n",
       "        vertical-align: top;\n",
       "    }\n",
       "\n",
       "    .dataframe thead th {\n",
       "        text-align: right;\n",
       "    }\n",
       "</style>\n",
       "<table border=\"1\" class=\"dataframe\">\n",
       "  <thead>\n",
       "    <tr style=\"text-align: right;\">\n",
       "      <th></th>\n",
       "      <th>Area name</th>\n",
       "      <th>Area code</th>\n",
       "      <th>Area type</th>\n",
       "      <th>Specimen date</th>\n",
       "      <th>Daily lab-confirmed cases</th>\n",
       "      <th>Previously reported daily cases</th>\n",
       "      <th>Change in daily cases</th>\n",
       "      <th>Cumulative lab-confirmed cases</th>\n",
       "      <th>Previously reported cumulative cases</th>\n",
       "      <th>Change in cumulative cases</th>\n",
       "      <th>Cumulative lab-confirmed cases rate</th>\n",
       "    </tr>\n",
       "  </thead>\n",
       "  <tbody>\n",
       "    <tr>\n",
       "      <th>0</th>\n",
       "      <td>England</td>\n",
       "      <td>E92000001</td>\n",
       "      <td>Nation</td>\n",
       "      <td>2020-07-25</td>\n",
       "      <td>0</td>\n",
       "      <td>0.0</td>\n",
       "      <td>0.0</td>\n",
       "      <td>257138</td>\n",
       "      <td>256428.0</td>\n",
       "      <td>710.0</td>\n",
       "      <td>459.4</td>\n",
       "    </tr>\n",
       "    <tr>\n",
       "      <th>1</th>\n",
       "      <td>South West</td>\n",
       "      <td>E12000009</td>\n",
       "      <td>Region</td>\n",
       "      <td>2020-07-25</td>\n",
       "      <td>0</td>\n",
       "      <td>NaN</td>\n",
       "      <td>NaN</td>\n",
       "      <td>13078</td>\n",
       "      <td>NaN</td>\n",
       "      <td>NaN</td>\n",
       "      <td>233.5</td>\n",
       "    </tr>\n",
       "    <tr>\n",
       "      <th>2</th>\n",
       "      <td>South East</td>\n",
       "      <td>E12000008</td>\n",
       "      <td>Region</td>\n",
       "      <td>2020-07-25</td>\n",
       "      <td>0</td>\n",
       "      <td>NaN</td>\n",
       "      <td>NaN</td>\n",
       "      <td>35016</td>\n",
       "      <td>NaN</td>\n",
       "      <td>NaN</td>\n",
       "      <td>383.4</td>\n",
       "    </tr>\n",
       "    <tr>\n",
       "      <th>3</th>\n",
       "      <td>London</td>\n",
       "      <td>E12000007</td>\n",
       "      <td>Region</td>\n",
       "      <td>2020-07-25</td>\n",
       "      <td>0</td>\n",
       "      <td>NaN</td>\n",
       "      <td>NaN</td>\n",
       "      <td>34930</td>\n",
       "      <td>NaN</td>\n",
       "      <td>NaN</td>\n",
       "      <td>392.1</td>\n",
       "    </tr>\n",
       "    <tr>\n",
       "      <th>4</th>\n",
       "      <td>East of England</td>\n",
       "      <td>E12000006</td>\n",
       "      <td>Region</td>\n",
       "      <td>2020-07-25</td>\n",
       "      <td>0</td>\n",
       "      <td>NaN</td>\n",
       "      <td>NaN</td>\n",
       "      <td>24460</td>\n",
       "      <td>NaN</td>\n",
       "      <td>NaN</td>\n",
       "      <td>394.4</td>\n",
       "    </tr>\n",
       "  </tbody>\n",
       "</table>\n",
       "</div>"
      ],
      "text/plain": [
       "         Area name  Area code Area type Specimen date  \\\n",
       "0          England  E92000001    Nation    2020-07-25   \n",
       "1       South West  E12000009    Region    2020-07-25   \n",
       "2       South East  E12000008    Region    2020-07-25   \n",
       "3           London  E12000007    Region    2020-07-25   \n",
       "4  East of England  E12000006    Region    2020-07-25   \n",
       "\n",
       "   Daily lab-confirmed cases  Previously reported daily cases  \\\n",
       "0                          0                              0.0   \n",
       "1                          0                              NaN   \n",
       "2                          0                              NaN   \n",
       "3                          0                              NaN   \n",
       "4                          0                              NaN   \n",
       "\n",
       "   Change in daily cases  Cumulative lab-confirmed cases  \\\n",
       "0                    0.0                          257138   \n",
       "1                    NaN                           13078   \n",
       "2                    NaN                           35016   \n",
       "3                    NaN                           34930   \n",
       "4                    NaN                           24460   \n",
       "\n",
       "   Previously reported cumulative cases  Change in cumulative cases  \\\n",
       "0                              256428.0                       710.0   \n",
       "1                                   NaN                         NaN   \n",
       "2                                   NaN                         NaN   \n",
       "3                                   NaN                         NaN   \n",
       "4                                   NaN                         NaN   \n",
       "\n",
       "   Cumulative lab-confirmed cases rate  \n",
       "0                                459.4  \n",
       "1                                233.5  \n",
       "2                                383.4  \n",
       "3                                392.1  \n",
       "4                                394.4  "
      ]
     },
     "execution_count": 420,
     "metadata": {},
     "output_type": "execute_result"
    }
   ],
   "source": [
    "cases_df = pd.read_csv('data/coronavirus-cases_latest.csv')\n",
    "cases_df.head()"
   ]
  },
  {
   "cell_type": "code",
   "execution_count": 421,
   "metadata": {},
   "outputs": [
    {
     "data": {
      "text/html": [
       "<div>\n",
       "<style scoped>\n",
       "    .dataframe tbody tr th:only-of-type {\n",
       "        vertical-align: middle;\n",
       "    }\n",
       "\n",
       "    .dataframe tbody tr th {\n",
       "        vertical-align: top;\n",
       "    }\n",
       "\n",
       "    .dataframe thead th {\n",
       "        text-align: right;\n",
       "    }\n",
       "</style>\n",
       "<table border=\"1\" class=\"dataframe\">\n",
       "  <thead>\n",
       "    <tr style=\"text-align: right;\">\n",
       "      <th></th>\n",
       "      <th>Area name</th>\n",
       "      <th>Area code</th>\n",
       "      <th>Area type</th>\n",
       "      <th>Reporting date</th>\n",
       "      <th>Daily change in deaths</th>\n",
       "      <th>Cumulative deaths</th>\n",
       "    </tr>\n",
       "  </thead>\n",
       "  <tbody>\n",
       "    <tr>\n",
       "      <th>0</th>\n",
       "      <td>Wales</td>\n",
       "      <td>W92000004</td>\n",
       "      <td>Nation</td>\n",
       "      <td>2020-07-25</td>\n",
       "      <td>0.0</td>\n",
       "      <td>1548</td>\n",
       "    </tr>\n",
       "    <tr>\n",
       "      <th>1</th>\n",
       "      <td>Scotland</td>\n",
       "      <td>S92000003</td>\n",
       "      <td>Nation</td>\n",
       "      <td>2020-07-25</td>\n",
       "      <td>0.0</td>\n",
       "      <td>2491</td>\n",
       "    </tr>\n",
       "    <tr>\n",
       "      <th>2</th>\n",
       "      <td>Northern Ireland</td>\n",
       "      <td>N92000002</td>\n",
       "      <td>Nation</td>\n",
       "      <td>2020-07-25</td>\n",
       "      <td>0.0</td>\n",
       "      <td>556</td>\n",
       "    </tr>\n",
       "    <tr>\n",
       "      <th>3</th>\n",
       "      <td>United Kingdom</td>\n",
       "      <td>K02000001</td>\n",
       "      <td>UK</td>\n",
       "      <td>2020-07-25</td>\n",
       "      <td>61.0</td>\n",
       "      <td>45738</td>\n",
       "    </tr>\n",
       "    <tr>\n",
       "      <th>4</th>\n",
       "      <td>England</td>\n",
       "      <td>E92000001</td>\n",
       "      <td>Nation</td>\n",
       "      <td>2020-07-25</td>\n",
       "      <td>61.0</td>\n",
       "      <td>41143</td>\n",
       "    </tr>\n",
       "  </tbody>\n",
       "</table>\n",
       "</div>"
      ],
      "text/plain": [
       "          Area name  Area code Area type Reporting date  \\\n",
       "0             Wales  W92000004    Nation     2020-07-25   \n",
       "1          Scotland  S92000003    Nation     2020-07-25   \n",
       "2  Northern Ireland  N92000002    Nation     2020-07-25   \n",
       "3    United Kingdom  K02000001        UK     2020-07-25   \n",
       "4           England  E92000001    Nation     2020-07-25   \n",
       "\n",
       "   Daily change in deaths  Cumulative deaths  \n",
       "0                     0.0               1548  \n",
       "1                     0.0               2491  \n",
       "2                     0.0                556  \n",
       "3                    61.0              45738  \n",
       "4                    61.0              41143  "
      ]
     },
     "execution_count": 421,
     "metadata": {},
     "output_type": "execute_result"
    }
   ],
   "source": [
    "deaths_df = pd.read_csv('data/coronavirus-deaths_latest.csv')\n",
    "deaths_df.head()"
   ]
  },
  {
   "cell_type": "code",
   "execution_count": 422,
   "metadata": {},
   "outputs": [
    {
     "data": {
      "text/html": [
       "<div>\n",
       "<style scoped>\n",
       "    .dataframe tbody tr th:only-of-type {\n",
       "        vertical-align: middle;\n",
       "    }\n",
       "\n",
       "    .dataframe tbody tr th {\n",
       "        vertical-align: top;\n",
       "    }\n",
       "\n",
       "    .dataframe thead th {\n",
       "        text-align: right;\n",
       "    }\n",
       "</style>\n",
       "<table border=\"1\" class=\"dataframe\">\n",
       "  <thead>\n",
       "    <tr style=\"text-align: right;\">\n",
       "      <th></th>\n",
       "      <th>Daily lab-confirmed cases</th>\n",
       "      <th>Previously reported daily cases</th>\n",
       "      <th>Change in daily cases</th>\n",
       "      <th>Cumulative lab-confirmed cases</th>\n",
       "      <th>Previously reported cumulative cases</th>\n",
       "      <th>Change in cumulative cases</th>\n",
       "      <th>Cumulative lab-confirmed cases rate</th>\n",
       "    </tr>\n",
       "  </thead>\n",
       "  <tbody>\n",
       "    <tr>\n",
       "      <th>count</th>\n",
       "      <td>53412.000000</td>\n",
       "      <td>160.00000</td>\n",
       "      <td>160.000000</td>\n",
       "      <td>53412.000000</td>\n",
       "      <td>160.00000</td>\n",
       "      <td>160.000000</td>\n",
       "      <td>53412.000000</td>\n",
       "    </tr>\n",
       "    <tr>\n",
       "      <th>mean</th>\n",
       "      <td>18.783569</td>\n",
       "      <td>1602.67500</td>\n",
       "      <td>4.437500</td>\n",
       "      <td>1509.033494</td>\n",
       "      <td>139173.11250</td>\n",
       "      <td>15.787500</td>\n",
       "      <td>267.007933</td>\n",
       "    </tr>\n",
       "    <tr>\n",
       "      <th>std</th>\n",
       "      <td>124.687197</td>\n",
       "      <td>1444.16254</td>\n",
       "      <td>32.438561</td>\n",
       "      <td>9825.900102</td>\n",
       "      <td>99360.56192</td>\n",
       "      <td>100.369969</td>\n",
       "      <td>190.755905</td>\n",
       "    </tr>\n",
       "    <tr>\n",
       "      <th>min</th>\n",
       "      <td>0.000000</td>\n",
       "      <td>0.00000</td>\n",
       "      <td>-8.000000</td>\n",
       "      <td>1.000000</td>\n",
       "      <td>2.00000</td>\n",
       "      <td>-11.000000</td>\n",
       "      <td>0.000000</td>\n",
       "    </tr>\n",
       "    <tr>\n",
       "      <th>25%</th>\n",
       "      <td>2.000000</td>\n",
       "      <td>521.75000</td>\n",
       "      <td>-1.000000</td>\n",
       "      <td>163.000000</td>\n",
       "      <td>22400.75000</td>\n",
       "      <td>-6.000000</td>\n",
       "      <td>99.700000</td>\n",
       "    </tr>\n",
       "    <tr>\n",
       "      <th>50%</th>\n",
       "      <td>5.000000</td>\n",
       "      <td>991.50000</td>\n",
       "      <td>0.000000</td>\n",
       "      <td>467.000000</td>\n",
       "      <td>171161.00000</td>\n",
       "      <td>0.000000</td>\n",
       "      <td>262.700000</td>\n",
       "    </tr>\n",
       "    <tr>\n",
       "      <th>75%</th>\n",
       "      <td>13.000000</td>\n",
       "      <td>2767.25000</td>\n",
       "      <td>1.000000</td>\n",
       "      <td>1018.000000</td>\n",
       "      <td>234027.00000</td>\n",
       "      <td>1.000000</td>\n",
       "      <td>394.600000</td>\n",
       "    </tr>\n",
       "    <tr>\n",
       "      <th>max</th>\n",
       "      <td>4797.000000</td>\n",
       "      <td>4797.00000</td>\n",
       "      <td>370.000000</td>\n",
       "      <td>257138.000000</td>\n",
       "      <td>256428.00000</td>\n",
       "      <td>710.000000</td>\n",
       "      <td>1342.300000</td>\n",
       "    </tr>\n",
       "  </tbody>\n",
       "</table>\n",
       "</div>"
      ],
      "text/plain": [
       "       Daily lab-confirmed cases  Previously reported daily cases  \\\n",
       "count               53412.000000                        160.00000   \n",
       "mean                   18.783569                       1602.67500   \n",
       "std                   124.687197                       1444.16254   \n",
       "min                     0.000000                          0.00000   \n",
       "25%                     2.000000                        521.75000   \n",
       "50%                     5.000000                        991.50000   \n",
       "75%                    13.000000                       2767.25000   \n",
       "max                  4797.000000                       4797.00000   \n",
       "\n",
       "       Change in daily cases  Cumulative lab-confirmed cases  \\\n",
       "count             160.000000                    53412.000000   \n",
       "mean                4.437500                     1509.033494   \n",
       "std                32.438561                     9825.900102   \n",
       "min                -8.000000                        1.000000   \n",
       "25%                -1.000000                      163.000000   \n",
       "50%                 0.000000                      467.000000   \n",
       "75%                 1.000000                     1018.000000   \n",
       "max               370.000000                   257138.000000   \n",
       "\n",
       "       Previously reported cumulative cases  Change in cumulative cases  \\\n",
       "count                             160.00000                  160.000000   \n",
       "mean                           139173.11250                   15.787500   \n",
       "std                             99360.56192                  100.369969   \n",
       "min                                 2.00000                  -11.000000   \n",
       "25%                             22400.75000                   -6.000000   \n",
       "50%                            171161.00000                    0.000000   \n",
       "75%                            234027.00000                    1.000000   \n",
       "max                            256428.00000                  710.000000   \n",
       "\n",
       "       Cumulative lab-confirmed cases rate  \n",
       "count                         53412.000000  \n",
       "mean                            267.007933  \n",
       "std                             190.755905  \n",
       "min                               0.000000  \n",
       "25%                              99.700000  \n",
       "50%                             262.700000  \n",
       "75%                             394.600000  \n",
       "max                            1342.300000  "
      ]
     },
     "execution_count": 422,
     "metadata": {},
     "output_type": "execute_result"
    }
   ],
   "source": [
    "cases_df.describe()"
   ]
  },
  {
   "cell_type": "code",
   "execution_count": 423,
   "metadata": {},
   "outputs": [
    {
     "data": {
      "text/html": [
       "<div>\n",
       "<style scoped>\n",
       "    .dataframe tbody tr th:only-of-type {\n",
       "        vertical-align: middle;\n",
       "    }\n",
       "\n",
       "    .dataframe tbody tr th {\n",
       "        vertical-align: top;\n",
       "    }\n",
       "\n",
       "    .dataframe thead th {\n",
       "        text-align: right;\n",
       "    }\n",
       "</style>\n",
       "<table border=\"1\" class=\"dataframe\">\n",
       "  <thead>\n",
       "    <tr style=\"text-align: right;\">\n",
       "      <th></th>\n",
       "      <th>Daily change in deaths</th>\n",
       "      <th>Cumulative deaths</th>\n",
       "    </tr>\n",
       "  </thead>\n",
       "  <tbody>\n",
       "    <tr>\n",
       "      <th>count</th>\n",
       "      <td>672.000000</td>\n",
       "      <td>676.000000</td>\n",
       "    </tr>\n",
       "    <tr>\n",
       "      <th>mean</th>\n",
       "      <td>136.123512</td>\n",
       "      <td>11532.548817</td>\n",
       "    </tr>\n",
       "    <tr>\n",
       "      <th>std</th>\n",
       "      <td>243.800799</td>\n",
       "      <td>16189.236431</td>\n",
       "    </tr>\n",
       "    <tr>\n",
       "      <th>min</th>\n",
       "      <td>-10.000000</td>\n",
       "      <td>1.000000</td>\n",
       "    </tr>\n",
       "    <tr>\n",
       "      <th>25%</th>\n",
       "      <td>3.000000</td>\n",
       "      <td>520.250000</td>\n",
       "    </tr>\n",
       "    <tr>\n",
       "      <th>50%</th>\n",
       "      <td>17.000000</td>\n",
       "      <td>1540.000000</td>\n",
       "    </tr>\n",
       "    <tr>\n",
       "      <th>75%</th>\n",
       "      <td>144.750000</td>\n",
       "      <td>26200.500000</td>\n",
       "    </tr>\n",
       "    <tr>\n",
       "      <th>max</th>\n",
       "      <td>1173.000000</td>\n",
       "      <td>45738.000000</td>\n",
       "    </tr>\n",
       "  </tbody>\n",
       "</table>\n",
       "</div>"
      ],
      "text/plain": [
       "       Daily change in deaths  Cumulative deaths\n",
       "count              672.000000         676.000000\n",
       "mean               136.123512       11532.548817\n",
       "std                243.800799       16189.236431\n",
       "min                -10.000000           1.000000\n",
       "25%                  3.000000         520.250000\n",
       "50%                 17.000000        1540.000000\n",
       "75%                144.750000       26200.500000\n",
       "max               1173.000000       45738.000000"
      ]
     },
     "execution_count": 423,
     "metadata": {},
     "output_type": "execute_result"
    }
   ],
   "source": [
    "deaths_df.describe()"
   ]
  },
  {
   "cell_type": "code",
   "execution_count": 424,
   "metadata": {},
   "outputs": [
    {
     "name": "stdout",
     "output_type": "stream",
     "text": [
      "Check cases csv for null values:\n",
      "\n",
      "Area name                                   0\n",
      "Area code                                   0\n",
      "Area type                                   0\n",
      "Specimen date                               0\n",
      "Daily lab-confirmed cases                   0\n",
      "Previously reported daily cases         53252\n",
      "Change in daily cases                   53252\n",
      "Cumulative lab-confirmed cases              0\n",
      "Previously reported cumulative cases    53252\n",
      "Change in cumulative cases              53252\n",
      "Cumulative lab-confirmed cases rate         0\n",
      "dtype: int64\n",
      "\n",
      "Check deaths csv for null values:\n",
      "\n",
      "Area name                 0\n",
      "Area code                 0\n",
      "Area type                 0\n",
      "Reporting date            0\n",
      "Daily change in deaths    4\n",
      "Cumulative deaths         0\n",
      "dtype: int64\n"
     ]
    }
   ],
   "source": [
    "print(\"Check cases csv for null values:\\n\")\n",
    "print(cases_df.isnull().sum())\n",
    "print(\"\\nCheck deaths csv for null values:\\n\")\n",
    "print(deaths_df.isnull().sum())"
   ]
  },
  {
   "cell_type": "code",
   "execution_count": 425,
   "metadata": {},
   "outputs": [
    {
     "name": "stdout",
     "output_type": "stream",
     "text": [
      "cases dataframe shape:  (53412, 11)\n",
      "deaths dataframe shape:  (676, 6)\n"
     ]
    }
   ],
   "source": [
    "print(\"cases dataframe shape: \", cases_df.shape)\n",
    "print(\"deaths dataframe shape: \", deaths_df.shape)"
   ]
  },
  {
   "cell_type": "code",
   "execution_count": 426,
   "metadata": {},
   "outputs": [],
   "source": [
    "# DATA CLEANING"
   ]
  },
  {
   "cell_type": "code",
   "execution_count": 427,
   "metadata": {},
   "outputs": [],
   "source": [
    "cases_df.drop(['Previously reported daily cases', 'Change in daily cases', 'Previously reported cumulative cases', \n",
    "                'Change in cumulative cases'], axis=1, inplace=True)"
   ]
  },
  {
   "cell_type": "code",
   "execution_count": 428,
   "metadata": {},
   "outputs": [
    {
     "data": {
      "text/html": [
       "<div>\n",
       "<style scoped>\n",
       "    .dataframe tbody tr th:only-of-type {\n",
       "        vertical-align: middle;\n",
       "    }\n",
       "\n",
       "    .dataframe tbody tr th {\n",
       "        vertical-align: top;\n",
       "    }\n",
       "\n",
       "    .dataframe thead th {\n",
       "        text-align: right;\n",
       "    }\n",
       "</style>\n",
       "<table border=\"1\" class=\"dataframe\">\n",
       "  <thead>\n",
       "    <tr style=\"text-align: right;\">\n",
       "      <th></th>\n",
       "      <th>Area name</th>\n",
       "      <th>Area code</th>\n",
       "      <th>Area type</th>\n",
       "      <th>Specimen date</th>\n",
       "      <th>Daily lab-confirmed cases</th>\n",
       "      <th>Cumulative lab-confirmed cases</th>\n",
       "      <th>Cumulative lab-confirmed cases rate</th>\n",
       "    </tr>\n",
       "  </thead>\n",
       "  <tbody>\n",
       "    <tr>\n",
       "      <th>0</th>\n",
       "      <td>England</td>\n",
       "      <td>E92000001</td>\n",
       "      <td>Nation</td>\n",
       "      <td>2020-07-25</td>\n",
       "      <td>0</td>\n",
       "      <td>257138</td>\n",
       "      <td>459.4</td>\n",
       "    </tr>\n",
       "    <tr>\n",
       "      <th>1</th>\n",
       "      <td>South West</td>\n",
       "      <td>E12000009</td>\n",
       "      <td>Region</td>\n",
       "      <td>2020-07-25</td>\n",
       "      <td>0</td>\n",
       "      <td>13078</td>\n",
       "      <td>233.5</td>\n",
       "    </tr>\n",
       "    <tr>\n",
       "      <th>2</th>\n",
       "      <td>South East</td>\n",
       "      <td>E12000008</td>\n",
       "      <td>Region</td>\n",
       "      <td>2020-07-25</td>\n",
       "      <td>0</td>\n",
       "      <td>35016</td>\n",
       "      <td>383.4</td>\n",
       "    </tr>\n",
       "    <tr>\n",
       "      <th>3</th>\n",
       "      <td>London</td>\n",
       "      <td>E12000007</td>\n",
       "      <td>Region</td>\n",
       "      <td>2020-07-25</td>\n",
       "      <td>0</td>\n",
       "      <td>34930</td>\n",
       "      <td>392.1</td>\n",
       "    </tr>\n",
       "    <tr>\n",
       "      <th>4</th>\n",
       "      <td>East of England</td>\n",
       "      <td>E12000006</td>\n",
       "      <td>Region</td>\n",
       "      <td>2020-07-25</td>\n",
       "      <td>0</td>\n",
       "      <td>24460</td>\n",
       "      <td>394.4</td>\n",
       "    </tr>\n",
       "  </tbody>\n",
       "</table>\n",
       "</div>"
      ],
      "text/plain": [
       "         Area name  Area code Area type Specimen date  \\\n",
       "0          England  E92000001    Nation    2020-07-25   \n",
       "1       South West  E12000009    Region    2020-07-25   \n",
       "2       South East  E12000008    Region    2020-07-25   \n",
       "3           London  E12000007    Region    2020-07-25   \n",
       "4  East of England  E12000006    Region    2020-07-25   \n",
       "\n",
       "   Daily lab-confirmed cases  Cumulative lab-confirmed cases  \\\n",
       "0                          0                          257138   \n",
       "1                          0                           13078   \n",
       "2                          0                           35016   \n",
       "3                          0                           34930   \n",
       "4                          0                           24460   \n",
       "\n",
       "   Cumulative lab-confirmed cases rate  \n",
       "0                                459.4  \n",
       "1                                233.5  \n",
       "2                                383.4  \n",
       "3                                392.1  \n",
       "4                                394.4  "
      ]
     },
     "execution_count": 428,
     "metadata": {},
     "output_type": "execute_result"
    }
   ],
   "source": [
    "cases_df.head() # NaN values removed"
   ]
  },
  {
   "cell_type": "code",
   "execution_count": 429,
   "metadata": {},
   "outputs": [
    {
     "name": "stdout",
     "output_type": "stream",
     "text": [
      "Cases dataframe data types:\n",
      " Area name                                      object\n",
      "Area code                                      object\n",
      "Area type                                      object\n",
      "Specimen date                          datetime64[ns]\n",
      "Daily lab-confirmed cases                       int64\n",
      "Cumulative lab-confirmed cases                  int64\n",
      "Cumulative lab-confirmed cases rate           float64\n",
      "dtype: object\n",
      "\n",
      "Deaths dataframe data types:\n",
      " Area name                         object\n",
      "Area code                         object\n",
      "Area type                         object\n",
      "Reporting date            datetime64[ns]\n",
      "Daily change in deaths           float64\n",
      "Cumulative deaths                  int64\n",
      "dtype: object\n"
     ]
    }
   ],
   "source": [
    "cases_df['Specimen date'] = pd.to_datetime(cases_df['Specimen date'])\n",
    "deaths_df['Reporting date'] = pd.to_datetime(deaths_df['Reporting date'])\n",
    "print(\"Cases dataframe data types:\\n\", cases_df.dtypes)\n",
    "print(\"\\nDeaths dataframe data types:\\n\", deaths_df.dtypes)"
   ]
  },
  {
   "cell_type": "code",
   "execution_count": 430,
   "metadata": {},
   "outputs": [],
   "source": [
    "# DATA ANALYSIS"
   ]
  },
  {
   "cell_type": "code",
   "execution_count": 431,
   "metadata": {},
   "outputs": [],
   "source": [
    "#### 1 : Checks cases and deaths for each region/nation"
   ]
  },
  {
   "cell_type": "code",
   "execution_count": 432,
   "metadata": {},
   "outputs": [
    {
     "name": "stdout",
     "output_type": "stream",
     "text": [
      "\u001b[1mTotal cases in each Region :\n",
      "\u001b[0m\n",
      "East Midlands: 22972\n",
      "East of England: 24460\n",
      "London: 34930\n",
      "North East: 15284\n",
      "North West: 45046\n",
      "South East: 35016\n",
      "South West: 13078\n",
      "West Midlands: 26636\n",
      "Yorkshire and The Humber: 31288\n"
     ]
    }
   ],
   "source": [
    "region_df = cases_df[cases_df['Area type']=='Region']\n",
    "region_cases = region_df.groupby('Area name').max()['Cumulative lab-confirmed cases']\n",
    "print('\\033[1m' + 'Total cases in each Region :\\n' + '\\033[0m')\n",
    "for index, value in region_cases.items():\n",
    "    print(f\"{index}: {value}\")  "
   ]
  },
  {
   "cell_type": "code",
   "execution_count": 433,
   "metadata": {},
   "outputs": [
    {
     "name": "stdout",
     "output_type": "stream",
     "text": [
      "\u001b[1mTotal deaths in each Nation :\n",
      "\u001b[0m\n",
      "England: 41143\n",
      "Northern Ireland: 556\n",
      "Scotland: 2491\n",
      "Wales: 1548\n"
     ]
    }
   ],
   "source": [
    "nation_df = deaths_df[deaths_df['Area type']=='Nation']\n",
    "nation_deaths = nation_df.groupby('Area name').max()['Cumulative deaths']\n",
    "print('\\033[1m' + 'Total deaths in each Nation :\\n' + '\\033[0m')\n",
    "for index, value in nation_deaths.items():\n",
    "    print(f\"{index}: {value}\")  "
   ]
  },
  {
   "cell_type": "code",
   "execution_count": 434,
   "metadata": {},
   "outputs": [],
   "source": [
    "#### 2 : Month with highest daily cases and deaths"
   ]
  },
  {
   "cell_type": "code",
   "execution_count": 435,
   "metadata": {},
   "outputs": [],
   "source": [
    "cases_df['Month'] = pd.DatetimeIndex(cases_df['Specimen date']).month\n",
    "deaths_df['Month'] = pd.DatetimeIndex(deaths_df['Reporting date']).month"
   ]
  },
  {
   "cell_type": "code",
   "execution_count": 436,
   "metadata": {},
   "outputs": [
    {
     "data": {
      "text/plain": [
       "Month\n",
       "4    455826\n",
       "Name: Daily lab-confirmed cases, dtype: int64"
      ]
     },
     "execution_count": 436,
     "metadata": {},
     "output_type": "execute_result"
    }
   ],
   "source": [
    "cases_per_month = cases_df.groupby('Month').sum()['Daily lab-confirmed cases']\n",
    "cases_per_month\n",
    "cases_per_month[cases_per_month == cases_per_month.max()] \n",
    "# This shows that the highest daily cases were in the 4th month meaning April, which where it peaked"
   ]
  },
  {
   "cell_type": "code",
   "execution_count": 437,
   "metadata": {},
   "outputs": [
    {
     "data": {
      "image/png": "[encoded data removed]",
      "text/plain": [
       "<Figure size 432x288 with 2 Axes>"
      ]
     },
     "metadata": {
      "needs_background": "light"
     },
     "output_type": "display_data"
    }
   ],
   "source": [
    "x = ['Jan', 'Feb', 'Mar', 'Apr', 'May', 'Jun',' Jul']\n",
    "\n",
    "deaths_per_month = deaths_df.groupby('Month').sum()['Daily change in deaths']\n",
    "fig, ax1 = plt.subplots()\n",
    "ax2 = ax1.twinx()\n",
    "\n",
    "ax1.bar(np.arange(7),cases_per_month, color='yellow')\n",
    "ax2.plot(np.arange(2,7), deaths_per_month, 'r-')\n",
    "\n",
    "ax1.set_xlabel('Month')\n",
    "ax1.set_ylabel('Total cases', color='y')\n",
    "ax2.set_ylabel('Total deaths', color='r')\n",
    "ax1.set_xticklabels(x)\n",
    "plt.show()"
   ]
  },
  {
   "cell_type": "code",
   "execution_count": 438,
   "metadata": {},
   "outputs": [
    {
     "data": {
      "image/png": "[encoded data removed]",
      "text/plain": [
       "<Figure size 432x288 with 1 Axes>"
      ]
     },
     "metadata": {
      "needs_background": "light"
     },
     "output_type": "display_data"
    }
   ],
   "source": [
    "# daily cases compared to daily deaths\n",
    "x1 = cases_df['Specimen date']\n",
    "y1 = cases_df['Daily lab-confirmed cases']  \n",
    "x2 = deaths_df['Reporting date'] \n",
    "y2 = deaths_df['Daily change in deaths']\n",
    "\n",
    "plt.plot(x1, y1, label = \"Daily Cases\")   \n",
    "plt.plot(x2, y2, label = \"Daily deaths\") \n",
    "plt.xlabel('Time duration') \n",
    "plt.ylabel('Number of cases') \n",
    "plt.title('Daily deaths and daily cases compared') \n",
    "plt.legend() \n",
    "plt.show()"
   ]
  },
  {
   "cell_type": "code",
   "execution_count": 439,
   "metadata": {},
   "outputs": [],
   "source": [
    "#### 3 : Check for region with highest accumlative cases and deaths"
   ]
  },
  {
   "cell_type": "code",
   "execution_count": 440,
   "metadata": {},
   "outputs": [
    {
     "data": {
      "text/html": [
       "<style  type=\"text/css\" >\n",
       "    #T_94fa5164_cec5_11ea_9a9e_54ee755fa0c0row0_col1 {\n",
       "            background-color:  #67000d;\n",
       "            color:  #f1f1f1;\n",
       "        }    #T_94fa5164_cec5_11ea_9a9e_54ee755fa0c0row1_col1 {\n",
       "            background-color:  #dd2a25;\n",
       "            color:  #f1f1f1;\n",
       "        }    #T_94fa5164_cec5_11ea_9a9e_54ee755fa0c0row2_col1 {\n",
       "            background-color:  #de2b25;\n",
       "            color:  #f1f1f1;\n",
       "        }    #T_94fa5164_cec5_11ea_9a9e_54ee755fa0c0row3_col1 {\n",
       "            background-color:  #f4503a;\n",
       "            color:  #000000;\n",
       "        }    #T_94fa5164_cec5_11ea_9a9e_54ee755fa0c0row4_col1 {\n",
       "            background-color:  #fc8262;\n",
       "            color:  #000000;\n",
       "        }    #T_94fa5164_cec5_11ea_9a9e_54ee755fa0c0row5_col1 {\n",
       "            background-color:  #fc9879;\n",
       "            color:  #000000;\n",
       "        }    #T_94fa5164_cec5_11ea_9a9e_54ee755fa0c0row6_col1 {\n",
       "            background-color:  #fca78b;\n",
       "            color:  #000000;\n",
       "        }    #T_94fa5164_cec5_11ea_9a9e_54ee755fa0c0row7_col1 {\n",
       "            background-color:  #feeae0;\n",
       "            color:  #000000;\n",
       "        }    #T_94fa5164_cec5_11ea_9a9e_54ee755fa0c0row8_col1 {\n",
       "            background-color:  #fff5f0;\n",
       "            color:  #000000;\n",
       "        }</style><table id=\"T_94fa5164_cec5_11ea_9a9e_54ee755fa0c0\" ><thead>    <tr>        <th class=\"blank level0\" ></th>        <th class=\"col_heading level0 col0\" >Area code</th>        <th class=\"col_heading level0 col1\" >Cumulative lab-confirmed cases</th>    </tr>    <tr>        <th class=\"index_name level0\" >Area name</th>        <th class=\"blank\" ></th>        <th class=\"blank\" ></th>    </tr></thead><tbody>\n",
       "                <tr>\n",
       "                        <th id=\"T_94fa5164_cec5_11ea_9a9e_54ee755fa0c0level0_row0\" class=\"row_heading level0 row0\" >North West</th>\n",
       "                        <td id=\"T_94fa5164_cec5_11ea_9a9e_54ee755fa0c0row0_col0\" class=\"data row0 col0\" >E12000002</td>\n",
       "                        <td id=\"T_94fa5164_cec5_11ea_9a9e_54ee755fa0c0row0_col1\" class=\"data row0 col1\" >45046</td>\n",
       "            </tr>\n",
       "            <tr>\n",
       "                        <th id=\"T_94fa5164_cec5_11ea_9a9e_54ee755fa0c0level0_row1\" class=\"row_heading level0 row1\" >South East</th>\n",
       "                        <td id=\"T_94fa5164_cec5_11ea_9a9e_54ee755fa0c0row1_col0\" class=\"data row1 col0\" >E12000008</td>\n",
       "                        <td id=\"T_94fa5164_cec5_11ea_9a9e_54ee755fa0c0row1_col1\" class=\"data row1 col1\" >35016</td>\n",
       "            </tr>\n",
       "            <tr>\n",
       "                        <th id=\"T_94fa5164_cec5_11ea_9a9e_54ee755fa0c0level0_row2\" class=\"row_heading level0 row2\" >London</th>\n",
       "                        <td id=\"T_94fa5164_cec5_11ea_9a9e_54ee755fa0c0row2_col0\" class=\"data row2 col0\" >E12000007</td>\n",
       "                        <td id=\"T_94fa5164_cec5_11ea_9a9e_54ee755fa0c0row2_col1\" class=\"data row2 col1\" >34930</td>\n",
       "            </tr>\n",
       "            <tr>\n",
       "                        <th id=\"T_94fa5164_cec5_11ea_9a9e_54ee755fa0c0level0_row3\" class=\"row_heading level0 row3\" >Yorkshire and The Humber</th>\n",
       "                        <td id=\"T_94fa5164_cec5_11ea_9a9e_54ee755fa0c0row3_col0\" class=\"data row3 col0\" >E12000003</td>\n",
       "                        <td id=\"T_94fa5164_cec5_11ea_9a9e_54ee755fa0c0row3_col1\" class=\"data row3 col1\" >31288</td>\n",
       "            </tr>\n",
       "            <tr>\n",
       "                        <th id=\"T_94fa5164_cec5_11ea_9a9e_54ee755fa0c0level0_row4\" class=\"row_heading level0 row4\" >West Midlands</th>\n",
       "                        <td id=\"T_94fa5164_cec5_11ea_9a9e_54ee755fa0c0row4_col0\" class=\"data row4 col0\" >E12000005</td>\n",
       "                        <td id=\"T_94fa5164_cec5_11ea_9a9e_54ee755fa0c0row4_col1\" class=\"data row4 col1\" >26636</td>\n",
       "            </tr>\n",
       "            <tr>\n",
       "                        <th id=\"T_94fa5164_cec5_11ea_9a9e_54ee755fa0c0level0_row5\" class=\"row_heading level0 row5\" >East of England</th>\n",
       "                        <td id=\"T_94fa5164_cec5_11ea_9a9e_54ee755fa0c0row5_col0\" class=\"data row5 col0\" >E12000006</td>\n",
       "                        <td id=\"T_94fa5164_cec5_11ea_9a9e_54ee755fa0c0row5_col1\" class=\"data row5 col1\" >24460</td>\n",
       "            </tr>\n",
       "            <tr>\n",
       "                        <th id=\"T_94fa5164_cec5_11ea_9a9e_54ee755fa0c0level0_row6\" class=\"row_heading level0 row6\" >East Midlands</th>\n",
       "                        <td id=\"T_94fa5164_cec5_11ea_9a9e_54ee755fa0c0row6_col0\" class=\"data row6 col0\" >E12000004</td>\n",
       "                        <td id=\"T_94fa5164_cec5_11ea_9a9e_54ee755fa0c0row6_col1\" class=\"data row6 col1\" >22972</td>\n",
       "            </tr>\n",
       "            <tr>\n",
       "                        <th id=\"T_94fa5164_cec5_11ea_9a9e_54ee755fa0c0level0_row7\" class=\"row_heading level0 row7\" >North East</th>\n",
       "                        <td id=\"T_94fa5164_cec5_11ea_9a9e_54ee755fa0c0row7_col0\" class=\"data row7 col0\" >E12000001</td>\n",
       "                        <td id=\"T_94fa5164_cec5_11ea_9a9e_54ee755fa0c0row7_col1\" class=\"data row7 col1\" >15284</td>\n",
       "            </tr>\n",
       "            <tr>\n",
       "                        <th id=\"T_94fa5164_cec5_11ea_9a9e_54ee755fa0c0level0_row8\" class=\"row_heading level0 row8\" >South West</th>\n",
       "                        <td id=\"T_94fa5164_cec5_11ea_9a9e_54ee755fa0c0row8_col0\" class=\"data row8 col0\" >E12000009</td>\n",
       "                        <td id=\"T_94fa5164_cec5_11ea_9a9e_54ee755fa0c0row8_col1\" class=\"data row8 col1\" >13078</td>\n",
       "            </tr>\n",
       "    </tbody></table>"
      ],
      "text/plain": [
       "<pandas.io.formats.style.Styler at 0x1e472c50>"
      ]
     },
     "execution_count": 440,
     "metadata": {},
     "output_type": "execute_result"
    }
   ],
   "source": [
    "region_df = cases_df[cases_df['Area type']=='Region']\n",
    "region_df = region_df.groupby('Area name').max()\n",
    "region_df = region_df[['Area code', 'Cumulative lab-confirmed cases']].sort_values(by='Cumulative lab-confirmed cases',ascending=False)\n",
    "region_df.style.background_gradient(cmap='Reds')"
   ]
  },
  {
   "cell_type": "code",
   "execution_count": 441,
   "metadata": {},
   "outputs": [
    {
     "data": {
      "text/html": [
       "<style  type=\"text/css\" >\n",
       "    #T_951174e2_cec5_11ea_b2ef_54ee755fa0c0row0_col1 {\n",
       "            background-color:  #67000d;\n",
       "            color:  #f1f1f1;\n",
       "        }    #T_951174e2_cec5_11ea_b2ef_54ee755fa0c0row1_col1 {\n",
       "            background-color:  #fff5f0;\n",
       "            color:  #000000;\n",
       "        }    #T_951174e2_cec5_11ea_b2ef_54ee755fa0c0row2_col1 {\n",
       "            background-color:  #ffede5;\n",
       "            color:  #000000;\n",
       "        }    #T_951174e2_cec5_11ea_b2ef_54ee755fa0c0row3_col1 {\n",
       "            background-color:  #fff1ea;\n",
       "            color:  #000000;\n",
       "        }</style><table id=\"T_951174e2_cec5_11ea_b2ef_54ee755fa0c0\" ><thead>    <tr>        <th class=\"blank level0\" ></th>        <th class=\"col_heading level0 col0\" >Area code</th>        <th class=\"col_heading level0 col1\" >Cumulative deaths</th>    </tr>    <tr>        <th class=\"index_name level0\" >Area name</th>        <th class=\"blank\" ></th>        <th class=\"blank\" ></th>    </tr></thead><tbody>\n",
       "                <tr>\n",
       "                        <th id=\"T_951174e2_cec5_11ea_b2ef_54ee755fa0c0level0_row0\" class=\"row_heading level0 row0\" >England</th>\n",
       "                        <td id=\"T_951174e2_cec5_11ea_b2ef_54ee755fa0c0row0_col0\" class=\"data row0 col0\" >E92000001</td>\n",
       "                        <td id=\"T_951174e2_cec5_11ea_b2ef_54ee755fa0c0row0_col1\" class=\"data row0 col1\" >41143</td>\n",
       "            </tr>\n",
       "            <tr>\n",
       "                        <th id=\"T_951174e2_cec5_11ea_b2ef_54ee755fa0c0level0_row1\" class=\"row_heading level0 row1\" >Northern Ireland</th>\n",
       "                        <td id=\"T_951174e2_cec5_11ea_b2ef_54ee755fa0c0row1_col0\" class=\"data row1 col0\" >N92000002</td>\n",
       "                        <td id=\"T_951174e2_cec5_11ea_b2ef_54ee755fa0c0row1_col1\" class=\"data row1 col1\" >556</td>\n",
       "            </tr>\n",
       "            <tr>\n",
       "                        <th id=\"T_951174e2_cec5_11ea_b2ef_54ee755fa0c0level0_row2\" class=\"row_heading level0 row2\" >Scotland</th>\n",
       "                        <td id=\"T_951174e2_cec5_11ea_b2ef_54ee755fa0c0row2_col0\" class=\"data row2 col0\" >S92000003</td>\n",
       "                        <td id=\"T_951174e2_cec5_11ea_b2ef_54ee755fa0c0row2_col1\" class=\"data row2 col1\" >2491</td>\n",
       "            </tr>\n",
       "            <tr>\n",
       "                        <th id=\"T_951174e2_cec5_11ea_b2ef_54ee755fa0c0level0_row3\" class=\"row_heading level0 row3\" >Wales</th>\n",
       "                        <td id=\"T_951174e2_cec5_11ea_b2ef_54ee755fa0c0row3_col0\" class=\"data row3 col0\" >W92000004</td>\n",
       "                        <td id=\"T_951174e2_cec5_11ea_b2ef_54ee755fa0c0row3_col1\" class=\"data row3 col1\" >1548</td>\n",
       "            </tr>\n",
       "    </tbody></table>"
      ],
      "text/plain": [
       "<pandas.io.formats.style.Styler at 0x18d7ad70>"
      ]
     },
     "execution_count": 441,
     "metadata": {},
     "output_type": "execute_result"
    }
   ],
   "source": [
    "nation_df = deaths_df[deaths_df['Area type']=='Nation']\n",
    "nation_df = nation_df.groupby('Area name').max()\n",
    "nation_df = nation_df[['Area code', 'Cumulative deaths']].sort_values(by='Area name')\n",
    "nation_df.style.background_gradient(cmap='Reds')"
   ]
  },
  {
   "cell_type": "code",
   "execution_count": 442,
   "metadata": {},
   "outputs": [
    {
     "data": {
      "image/png": "[encoded data removed]",
      "text/plain": [
       "<Figure size 432x288 with 1 Axes>"
      ]
     },
     "metadata": {},
     "output_type": "display_data"
    }
   ],
   "source": [
    "nation_names = deaths_df[deaths_df['Area type'] == 'Nation']\n",
    "nation_names = nation_names['Area name'].unique()\n",
    "nation_names = np.sort(nation_names)\n",
    "\n",
    "data = nation_df['Cumulative deaths']\n",
    "\n",
    "plt.pie(data, labels=nation_names, \n",
    "        startangle=90, shadow = True, explode = (0, 0, 0.1, 0), \n",
    "        radius = 1.2, autopct = '%1.1f%%') \n",
    "plt.show() "
   ]
  },
  {
   "cell_type": "code",
   "execution_count": 443,
   "metadata": {},
   "outputs": [],
   "source": [
    "#### 4 : display daily cases each month "
   ]
  },
  {
   "cell_type": "code",
   "execution_count": 499,
   "metadata": {},
   "outputs": [
    {
     "data": {
      "text/plain": [
       "Text(0.5, 1.0, 'July')"
      ]
     },
     "execution_count": 499,
     "metadata": {},
     "output_type": "execute_result"
    },
    {
     "data": {
      "image/png": "[encoded data removed]",
      "text/plain": [
       "<Figure size 1080x1440 with 6 Axes>"
      ]
     },
     "metadata": {
      "needs_background": "light"
     },
     "output_type": "display_data"
    }
   ],
   "source": [
    "cases_df['Day'] = pd.DatetimeIndex(cases_df['Specimen date']).day\n",
    "eng_cases = cases_df[cases_df['Area name']=='England']\n",
    "eng_cases_7 = eng_cases[eng_cases['Month']==7]\n",
    "eng_cases_6 = eng_cases[eng_cases['Month']==6]\n",
    "eng_cases_5 = eng_cases[eng_cases['Month']==5]\n",
    "eng_cases_4 = eng_cases[eng_cases['Month']==4]\n",
    "eng_cases_3 = eng_cases[eng_cases['Month']==3]\n",
    "eng_cases_2 = eng_cases[eng_cases['Month']==2]\n",
    "\n",
    "plt.figure(figsize=(15,20))\n",
    "plt.subplot(4,2,1)\n",
    "sns.lineplot(x='Day',y='Daily lab-confirmed cases',data=eng_cases_2, palette='hsv')\n",
    "plt.title('February')\n",
    "plt.subplot(4,2,2)\n",
    "sns.lineplot(x='Day',y='Daily lab-confirmed cases',data=eng_cases_3, palette='hsv')\n",
    "plt.title('March')\n",
    "plt.subplot(4,2,3)\n",
    "sns.lineplot(x='Day',y='Daily lab-confirmed cases',data=eng_cases_4, palette='hsv')\n",
    "plt.title('April')\n",
    "plt.subplot(4,2,4)\n",
    "sns.lineplot(x='Day',y='Daily lab-confirmed cases',data=eng_cases_5, palette='hsv')\n",
    "plt.title('May')\n",
    "plt.subplot(4,2,5)\n",
    "sns.lineplot(x='Day',y='Daily lab-confirmed cases',data=eng_cases_6, palette='hsv')\n",
    "plt.title('June')\n",
    "plt.subplot(4,2,6)\n",
    "sns.lineplot(x='Day',y='Daily lab-confirmed cases',data=eng_cases_7, palette='hsv')\n",
    "plt.title('July')"
   ]
  },
  {
   "cell_type": "markdown",
   "metadata": {},
   "source": [
    "This shows increases in daily cases in every month in England.\n",
    "It can be seen that March had the highest increase in proportion compared to the other months whereas April had the highest amount of daily cases but had a higher variation in cases throughout the days. From July it can be seen that daily cases had started to decrease as a result of reduced contact with people to decrease the spread."
   ]
  },
  {
   "cell_type": "code",
   "execution_count": 494,
   "metadata": {},
   "outputs": [],
   "source": [
    "#### 5 : check which week day gets more cases"
   ]
  },
  {
   "cell_type": "code",
   "execution_count": 508,
   "metadata": {},
   "outputs": [
    {
     "data": {
      "text/html": [
       "<div>\n",
       "<style scoped>\n",
       "    .dataframe tbody tr th:only-of-type {\n",
       "        vertical-align: middle;\n",
       "    }\n",
       "\n",
       "    .dataframe tbody tr th {\n",
       "        vertical-align: top;\n",
       "    }\n",
       "\n",
       "    .dataframe thead th {\n",
       "        text-align: right;\n",
       "    }\n",
       "</style>\n",
       "<table border=\"1\" class=\"dataframe\">\n",
       "  <thead>\n",
       "    <tr style=\"text-align: right;\">\n",
       "      <th></th>\n",
       "      <th></th>\n",
       "      <th>Daily lab-confirmed cases</th>\n",
       "      <th>Cumulative lab-confirmed cases</th>\n",
       "      <th>Cumulative lab-confirmed cases rate</th>\n",
       "      <th>Day</th>\n",
       "    </tr>\n",
       "    <tr>\n",
       "      <th>Month</th>\n",
       "      <th>Day name</th>\n",
       "      <th></th>\n",
       "      <th></th>\n",
       "      <th></th>\n",
       "      <th></th>\n",
       "    </tr>\n",
       "  </thead>\n",
       "  <tbody>\n",
       "    <tr>\n",
       "      <th>1</th>\n",
       "      <th>Thursday</th>\n",
       "      <td>5</td>\n",
       "      <td>5</td>\n",
       "      <td>1.0</td>\n",
       "      <td>120</td>\n",
       "    </tr>\n",
       "    <tr>\n",
       "      <th rowspan=\"4\" valign=\"top\">2</th>\n",
       "      <th>Friday</th>\n",
       "      <td>48</td>\n",
       "      <td>123</td>\n",
       "      <td>13.8</td>\n",
       "      <td>840</td>\n",
       "    </tr>\n",
       "    <tr>\n",
       "      <th>Monday</th>\n",
       "      <td>12</td>\n",
       "      <td>33</td>\n",
       "      <td>2.8</td>\n",
       "      <td>180</td>\n",
       "    </tr>\n",
       "    <tr>\n",
       "      <th>Saturday</th>\n",
       "      <td>33</td>\n",
       "      <td>111</td>\n",
       "      <td>8.7</td>\n",
       "      <td>338</td>\n",
       "    </tr>\n",
       "    <tr>\n",
       "      <th>Sunday</th>\n",
       "      <td>4</td>\n",
       "      <td>26</td>\n",
       "      <td>3.5</td>\n",
       "      <td>36</td>\n",
       "    </tr>\n",
       "  </tbody>\n",
       "</table>\n",
       "</div>"
      ],
      "text/plain": [
       "                Daily lab-confirmed cases  Cumulative lab-confirmed cases  \\\n",
       "Month Day name                                                              \n",
       "1     Thursday                          5                               5   \n",
       "2     Friday                           48                             123   \n",
       "      Monday                           12                              33   \n",
       "      Saturday                         33                             111   \n",
       "      Sunday                            4                              26   \n",
       "\n",
       "                Cumulative lab-confirmed cases rate  Day  \n",
       "Month Day name                                            \n",
       "1     Thursday                                  1.0  120  \n",
       "2     Friday                                   13.8  840  \n",
       "      Monday                                    2.8  180  \n",
       "      Saturday                                  8.7  338  \n",
       "      Sunday                                    3.5   36  "
      ]
     },
     "execution_count": 508,
     "metadata": {},
     "output_type": "execute_result"
    }
   ],
   "source": [
    "day_daily_cases = cases_df['Day name'] = cases_df['Specimen date'].dt.day_name()\n",
    "day_daily_cases = cases_df.groupby(['Month','Day name']).sum()\n",
    "day_daily_cases.head()"
   ]
  },
  {
   "cell_type": "code",
   "execution_count": 546,
   "metadata": {},
   "outputs": [
    {
     "data": {
      "text/html": [
       "<div>\n",
       "<style scoped>\n",
       "    .dataframe tbody tr th:only-of-type {\n",
       "        vertical-align: middle;\n",
       "    }\n",
       "\n",
       "    .dataframe tbody tr th {\n",
       "        vertical-align: top;\n",
       "    }\n",
       "\n",
       "    .dataframe thead th {\n",
       "        text-align: right;\n",
       "    }\n",
       "</style>\n",
       "<table border=\"1\" class=\"dataframe\">\n",
       "  <thead>\n",
       "    <tr style=\"text-align: right;\">\n",
       "      <th></th>\n",
       "      <th>Month</th>\n",
       "      <th>Day name</th>\n",
       "      <th>Daily lab-confirmed cases</th>\n",
       "    </tr>\n",
       "  </thead>\n",
       "  <tbody>\n",
       "    <tr>\n",
       "      <th>21</th>\n",
       "      <td>4</td>\n",
       "      <td>Wednesday</td>\n",
       "      <td>4797</td>\n",
       "    </tr>\n",
       "    <tr>\n",
       "      <th>20</th>\n",
       "      <td>4</td>\n",
       "      <td>Tuesday</td>\n",
       "      <td>4575</td>\n",
       "    </tr>\n",
       "    <tr>\n",
       "      <th>19</th>\n",
       "      <td>4</td>\n",
       "      <td>Thursday</td>\n",
       "      <td>4572</td>\n",
       "    </tr>\n",
       "    <tr>\n",
       "      <th>16</th>\n",
       "      <td>4</td>\n",
       "      <td>Monday</td>\n",
       "      <td>4389</td>\n",
       "    </tr>\n",
       "    <tr>\n",
       "      <th>15</th>\n",
       "      <td>4</td>\n",
       "      <td>Friday</td>\n",
       "      <td>4370</td>\n",
       "    </tr>\n",
       "    <tr>\n",
       "      <th>17</th>\n",
       "      <td>4</td>\n",
       "      <td>Saturday</td>\n",
       "      <td>4126</td>\n",
       "    </tr>\n",
       "    <tr>\n",
       "      <th>22</th>\n",
       "      <td>5</td>\n",
       "      <td>Friday</td>\n",
       "      <td>4096</td>\n",
       "    </tr>\n",
       "    <tr>\n",
       "      <th>13</th>\n",
       "      <td>3</td>\n",
       "      <td>Tuesday</td>\n",
       "      <td>3782</td>\n",
       "    </tr>\n",
       "    <tr>\n",
       "      <th>9</th>\n",
       "      <td>3</td>\n",
       "      <td>Monday</td>\n",
       "      <td>3527</td>\n",
       "    </tr>\n",
       "    <tr>\n",
       "      <th>18</th>\n",
       "      <td>4</td>\n",
       "      <td>Sunday</td>\n",
       "      <td>3472</td>\n",
       "    </tr>\n",
       "  </tbody>\n",
       "</table>\n",
       "</div>"
      ],
      "text/plain": [
       "    Month   Day name  Daily lab-confirmed cases\n",
       "21      4  Wednesday                       4797\n",
       "20      4    Tuesday                       4575\n",
       "19      4   Thursday                       4572\n",
       "16      4     Monday                       4389\n",
       "15      4     Friday                       4370\n",
       "17      4   Saturday                       4126\n",
       "22      5     Friday                       4096\n",
       "13      3    Tuesday                       3782\n",
       "9       3     Monday                       3527\n",
       "18      4     Sunday                       3472"
      ]
     },
     "execution_count": 546,
     "metadata": {},
     "output_type": "execute_result"
    }
   ],
   "source": [
    "test = cases_df.groupby(['Month','Day name'])\n",
    "testing = test['Daily lab-confirmed cases'].max().reset_index()\n",
    "testing = testing.sort_values(by='Daily lab-confirmed cases',ascending=False)\n",
    "testing.head(10)"
   ]
  },
  {
   "cell_type": "code",
   "execution_count": 549,
   "metadata": {},
   "outputs": [
    {
     "data": {
      "image/png": "[encoded data removed]",
      "text/plain": [
       "<Figure size 1080x576 with 1 Axes>"
      ]
     },
     "metadata": {
      "needs_background": "light"
     },
     "output_type": "display_data"
    }
   ],
   "source": [
    "plt.figure(figsize=(15,8))\n",
    "sns.barplot(x='Month', y= 'Daily lab-confirmed cases',data=testing,hue='Day name',palette='hsv',saturation=.80)\n",
    "plt.title('VARIATION OF TOTAL CASES FOR WEEK DAYS OVER THE MONTHS')\n",
    "plt.show()"
   ]
  },
  {
   "cell_type": "code",
   "execution_count": 544,
   "metadata": {},
   "outputs": [
    {
     "data": {
      "text/html": [
       "<style  type=\"text/css\" >\n",
       "    #T_39504340_cf30_11ea_a51e_54ee755fa0c0row0_col0 {\n",
       "            background-color:  #1b69af;\n",
       "            color:  #f1f1f1;\n",
       "        }    #T_39504340_cf30_11ea_a51e_54ee755fa0c0row1_col0 {\n",
       "            background-color:  #0a539e;\n",
       "            color:  #f1f1f1;\n",
       "        }    #T_39504340_cf30_11ea_a51e_54ee755fa0c0row2_col0 {\n",
       "            background-color:  #d3e4f3;\n",
       "            color:  #000000;\n",
       "        }    #T_39504340_cf30_11ea_a51e_54ee755fa0c0row3_col0 {\n",
       "            background-color:  #f7fbff;\n",
       "            color:  #000000;\n",
       "        }    #T_39504340_cf30_11ea_a51e_54ee755fa0c0row4_col0 {\n",
       "            background-color:  #3b8bc2;\n",
       "            color:  #000000;\n",
       "        }    #T_39504340_cf30_11ea_a51e_54ee755fa0c0row5_col0 {\n",
       "            background-color:  #08306b;\n",
       "            color:  #f1f1f1;\n",
       "        }    #T_39504340_cf30_11ea_a51e_54ee755fa0c0row6_col0 {\n",
       "            background-color:  #3686c0;\n",
       "            color:  #000000;\n",
       "        }</style><table id=\"T_39504340_cf30_11ea_a51e_54ee755fa0c0\" ><thead>    <tr>        <th class=\"blank level0\" ></th>        <th class=\"col_heading level0 col0\" >Daily lab-confirmed cases</th>    </tr>    <tr>        <th class=\"index_name level0\" >Day name</th>        <th class=\"blank\" ></th>    </tr></thead><tbody>\n",
       "                <tr>\n",
       "                        <th id=\"T_39504340_cf30_11ea_a51e_54ee755fa0c0level0_row0\" class=\"row_heading level0 row0\" >Friday</th>\n",
       "                        <td id=\"T_39504340_cf30_11ea_a51e_54ee755fa0c0row0_col0\" class=\"data row0 col0\" >12695</td>\n",
       "            </tr>\n",
       "            <tr>\n",
       "                        <th id=\"T_39504340_cf30_11ea_a51e_54ee755fa0c0level0_row1\" class=\"row_heading level0 row1\" >Monday</th>\n",
       "                        <td id=\"T_39504340_cf30_11ea_a51e_54ee755fa0c0row1_col0\" class=\"data row1 col0\" >13000</td>\n",
       "            </tr>\n",
       "            <tr>\n",
       "                        <th id=\"T_39504340_cf30_11ea_a51e_54ee755fa0c0level0_row2\" class=\"row_heading level0 row2\" >Saturday</th>\n",
       "                        <td id=\"T_39504340_cf30_11ea_a51e_54ee755fa0c0row2_col0\" class=\"data row2 col0\" >10495</td>\n",
       "            </tr>\n",
       "            <tr>\n",
       "                        <th id=\"T_39504340_cf30_11ea_a51e_54ee755fa0c0level0_row3\" class=\"row_heading level0 row3\" >Sunday</th>\n",
       "                        <td id=\"T_39504340_cf30_11ea_a51e_54ee755fa0c0row3_col0\" class=\"data row3 col0\" >9834</td>\n",
       "            </tr>\n",
       "            <tr>\n",
       "                        <th id=\"T_39504340_cf30_11ea_a51e_54ee755fa0c0level0_row4\" class=\"row_heading level0 row4\" >Thursday</th>\n",
       "                        <td id=\"T_39504340_cf30_11ea_a51e_54ee755fa0c0row4_col0\" class=\"data row4 col0\" >12216</td>\n",
       "            </tr>\n",
       "            <tr>\n",
       "                        <th id=\"T_39504340_cf30_11ea_a51e_54ee755fa0c0level0_row5\" class=\"row_heading level0 row5\" >Tuesday</th>\n",
       "                        <td id=\"T_39504340_cf30_11ea_a51e_54ee755fa0c0row5_col0\" class=\"data row5 col0\" >13499</td>\n",
       "            </tr>\n",
       "            <tr>\n",
       "                        <th id=\"T_39504340_cf30_11ea_a51e_54ee755fa0c0level0_row6\" class=\"row_heading level0 row6\" >Wednesday</th>\n",
       "                        <td id=\"T_39504340_cf30_11ea_a51e_54ee755fa0c0row6_col0\" class=\"data row6 col0\" >12285</td>\n",
       "            </tr>\n",
       "    </tbody></table>"
      ],
      "text/plain": [
       "<pandas.io.formats.style.Styler at 0x22bbcc10>"
      ]
     },
     "execution_count": 544,
     "metadata": {},
     "output_type": "execute_result"
    }
   ],
   "source": [
    "a = testing[['Day name','Daily lab-confirmed cases']]\n",
    "a.groupby('Day name').sum().style.background_gradient(cmap='Blues')"
   ]
  },
  {
   "cell_type": "markdown",
   "metadata": {},
   "source": [
    "Tuesday is the day which has had the total most cases out of the week days whereas Saturday and sunday has had the least. This can be due to Saturday and Sunday being weekends where people may stay home. May had a large increase in cases on Friday which can be due to the lockdown measures being loosen so people with hang out on friday as it is the last working day.  "
   ]
  },
  {
   "cell_type": "code",
   "execution_count": null,
   "metadata": {},
   "outputs": [],
   "source": []
  },
  {
   "cell_type": "code",
   "execution_count": null,
   "metadata": {},
   "outputs": [],
   "source": []
  },
  {
   "cell_type": "code",
   "execution_count": null,
   "metadata": {},
   "outputs": [],
   "source": []
  },
  {
   "cell_type": "code",
   "execution_count": null,
   "metadata": {},
   "outputs": [],
   "source": [
    "cases_df.head()"
   ]
  },
  {
   "cell_type": "code",
   "execution_count": null,
   "metadata": {},
   "outputs": [],
   "source": [
    "pd.set_option('display.max_rows', None)\n",
    "cases_df.shape"
   ]
  },
  {
   "cell_type": "code",
   "execution_count": null,
   "metadata": {},
   "outputs": [],
   "source": [
    "deaths_df.head()"
   ]
  },
  {
   "cell_type": "code",
   "execution_count": null,
   "metadata": {},
   "outputs": [],
   "source": []
  }
 ],
 "metadata": {
  "kernelspec": {
   "display_name": "Python 3",
   "language": "python",
   "name": "python3"
  },
  "language_info": {
   "codemirror_mode": {
    "name": "ipython",
    "version": 3
   },
   "file_extension": ".py",
   "mimetype": "text/x-python",
   "name": "python",
   "nbconvert_exporter": "python",
   "pygments_lexer": "ipython3",
   "version": "3.7.0"
  }
 },
 "nbformat": 4,
 "nbformat_minor": 4
}
